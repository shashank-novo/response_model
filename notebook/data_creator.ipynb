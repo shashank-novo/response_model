{
 "cells": [
  {
   "cell_type": "markdown",
   "metadata": {},
   "source": [
    "NOTEBOOK TO LOAD ALL REQUIRED DATA "
   ]
  },
  {
   "cell_type": "code",
   "execution_count": 1,
   "metadata": {},
   "outputs": [
    {
     "name": "stdout",
     "output_type": "stream",
     "text": [
      "/Users/shashankgupta/Documents/code/git_project/Response model final/response_model\n",
      "/Users/shashankgupta/Documents/code/git_project/Response model final/response_model/code\n"
     ]
    }
   ],
   "source": [
    "import os \n",
    "cwd = os.getcwd()\n",
    "\n",
    "os.chdir('../')\n",
    "cwd = os.getcwd()\n",
    "print(cwd)\n",
    " \n",
    "os.chdir('./code/')\n",
    "cwd = os.getcwd()\n",
    "print(cwd)\n",
    "\n",
    "import pandas as pd \n",
    "import numpy as np \n",
    "\n",
    "import pickle \n",
    "import logging\n",
    "\n",
    "\n",
    "from config.config import SQLQuery\n",
    "querySno = SQLQuery('snowflake')"
   ]
  },
  {
   "cell_type": "markdown",
   "metadata": {},
   "source": [
    "QUERY FROM SNOWFLAKE FOR RAW DATA "
   ]
  },
  {
   "cell_type": "code",
   "execution_count": 2,
   "metadata": {},
   "outputs": [],
   "source": [
    "pilot = querySno(\"\"\"select * from PROD_DB.ADHOC.PILOT_DATASET_3 \"\"\")\n",
    "txn_features = querySno(\"\"\"select * from PROD_DB.adhoc.lending_novo_txn_features_model_prescreen_v2 \"\"\")\n",
    "risk_features = querySno(\"\"\"select * from PROD_DB.ADHOC.lending_response_features_final \"\"\")"
   ]
  },
  {
   "cell_type": "markdown",
   "metadata": {},
   "source": [
    "Common Features before removal "
   ]
  },
  {
   "cell_type": "code",
   "execution_count": 3,
   "metadata": {},
   "outputs": [
    {
     "name": "stdout",
     "output_type": "stream",
     "text": [
      "/Users/shashankgupta/Documents/code/git_project/Response model final/response_model/code/src\n",
      "utils module loaded ..\n"
     ]
    }
   ],
   "source": [
    "os.chdir('./src/')\n",
    "cwd = os.getcwd()\n",
    "print(cwd)\n",
    "\n",
    "from utils import Utils\n",
    "print(f\"utils module loaded ..\")\n",
    "\n",
    "ut = Utils()"
   ]
  },
  {
   "cell_type": "code",
   "execution_count": 4,
   "metadata": {},
   "outputs": [
    {
     "name": "stdout",
     "output_type": "stream",
     "text": [
      "['business_id', 'email_sent_at', 'signed_on_x', 'past_1_month', 'fpd_plus_3']\n",
      "['business_id', 'response_target']\n",
      "['date_of_refresh', 'business_id']\n"
     ]
    }
   ],
   "source": [
    "print(ut.intersection(pilot,txn_features))\n",
    "print(ut.intersection(pilot,risk_features))\n",
    "print(ut.intersection(risk_features,txn_features))"
   ]
  },
  {
   "cell_type": "code",
   "execution_count": 5,
   "metadata": {},
   "outputs": [],
   "source": [
    "txn_features = txn_features.drop(columns=['email_sent_at', 'signed_on_x', 'past_1_month', 'fpd_plus_3'],axis=1)\n",
    "risk_features = risk_features.drop(columns=['response_target'],axis=1)\n",
    "txn_features = txn_features.drop(columns=['date_of_refresh'],axis=1)"
   ]
  },
  {
   "cell_type": "code",
   "execution_count": 6,
   "metadata": {},
   "outputs": [
    {
     "name": "stdout",
     "output_type": "stream",
     "text": [
      "['business_id']\n",
      "['business_id']\n",
      "['business_id']\n"
     ]
    }
   ],
   "source": [
    "print(ut.intersection(pilot,txn_features))\n",
    "print(ut.intersection(pilot,risk_features))\n",
    "print(ut.intersection(risk_features,txn_features))"
   ]
  },
  {
   "cell_type": "code",
   "execution_count": 7,
   "metadata": {},
   "outputs": [
    {
     "name": "stdout",
     "output_type": "stream",
     "text": [
      "/Users/shashankgupta/Documents/code/git_project/Response model final/response_model/code/src\n"
     ]
    }
   ],
   "source": [
    "print(os.getcwd())"
   ]
  },
  {
   "cell_type": "code",
   "execution_count": 8,
   "metadata": {},
   "outputs": [],
   "source": [
    "final_df = pd.merge(pd.merge(pilot,txn_features,on='business_id'),txn_features)\n",
    "final_df = pd.merge(pd.merge(final_df,risk_features,on='business_id'),txn_features)"
   ]
  },
  {
   "cell_type": "code",
   "execution_count": 10,
   "metadata": {},
   "outputs": [
    {
     "data": {
      "text/plain": [
       "(6261, 437)"
      ]
     },
     "execution_count": 10,
     "metadata": {},
     "output_type": "execute_result"
    }
   ],
   "source": [
    "final_df.shape"
   ]
  },
  {
   "cell_type": "code",
   "execution_count": 9,
   "metadata": {},
   "outputs": [
    {
     "data": {
      "text/plain": [
       "0    5477\n",
       "1     784\n",
       "Name: response_target, dtype: int64"
      ]
     },
     "execution_count": 9,
     "metadata": {},
     "output_type": "execute_result"
    }
   ],
   "source": [
    "final_df['response_target'].value_counts()"
   ]
  },
  {
   "cell_type": "code",
   "execution_count": 12,
   "metadata": {},
   "outputs": [],
   "source": [
    "from datetime import date\n",
    "today = date.today()\n",
    "final_df.to_pickle(f'/Users/shashankgupta/Documents/code/git_project/Response model final/response_model/data/novo_features_response_2022-12-11.pkl')"
   ]
  },
  {
   "cell_type": "code",
   "execution_count": 13,
   "metadata": {},
   "outputs": [
    {
     "data": {
      "text/plain": [
       "'novo_features_response_2022-12-11.pkl'"
      ]
     },
     "execution_count": 13,
     "metadata": {},
     "output_type": "execute_result"
    }
   ],
   "source": [
    "f'novo_features_response_{today}.pkl'"
   ]
  },
  {
   "cell_type": "code",
   "execution_count": 15,
   "metadata": {},
   "outputs": [],
   "source": [
    "df = pd.read_pickle(f'/Users/shashankgupta/Documents/code/git_project/Response model final/response_model/data/novo_features_response_2022-12-11.pkl')"
   ]
  },
  {
   "cell_type": "code",
   "execution_count": 16,
   "metadata": {},
   "outputs": [
    {
     "data": {
      "text/plain": [
       "(6261, 437)"
      ]
     },
     "execution_count": 16,
     "metadata": {},
     "output_type": "execute_result"
    }
   ],
   "source": [
    "df.shape"
   ]
  },
  {
   "cell_type": "code",
   "execution_count": null,
   "metadata": {},
   "outputs": [],
   "source": []
  }
 ],
 "metadata": {
  "kernelspec": {
   "display_name": "Python 3.10.5 64-bit",
   "language": "python",
   "name": "python3"
  },
  "language_info": {
   "codemirror_mode": {
    "name": "ipython",
    "version": 3
   },
   "file_extension": ".py",
   "mimetype": "text/x-python",
   "name": "python",
   "nbconvert_exporter": "python",
   "pygments_lexer": "ipython3",
   "version": "3.10.5"
  },
  "orig_nbformat": 4,
  "vscode": {
   "interpreter": {
    "hash": "aee8b7b246df8f9039afb4144a1f6fd8d2ca17a180786b69acc140d282b71a49"
   }
  }
 },
 "nbformat": 4,
 "nbformat_minor": 2
}
